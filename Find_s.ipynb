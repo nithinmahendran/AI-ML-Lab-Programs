{
 "cells": [
  {
   "cell_type": "code",
   "execution_count": 2,
   "id": "addca6b5",
   "metadata": {},
   "outputs": [
    {
     "data": {
      "text/html": [
       "<div>\n",
       "<style scoped>\n",
       "    .dataframe tbody tr th:only-of-type {\n",
       "        vertical-align: middle;\n",
       "    }\n",
       "\n",
       "    .dataframe tbody tr th {\n",
       "        vertical-align: top;\n",
       "    }\n",
       "\n",
       "    .dataframe thead th {\n",
       "        text-align: right;\n",
       "    }\n",
       "</style>\n",
       "<table border=\"1\" class=\"dataframe\">\n",
       "  <thead>\n",
       "    <tr style=\"text-align: right;\">\n",
       "      <th></th>\n",
       "      <th>sky</th>\n",
       "      <th>airTemp</th>\n",
       "      <th>humidity</th>\n",
       "      <th>wind</th>\n",
       "      <th>water</th>\n",
       "      <th>forecast</th>\n",
       "      <th>enjoySport</th>\n",
       "    </tr>\n",
       "  </thead>\n",
       "  <tbody>\n",
       "    <tr>\n",
       "      <th>0</th>\n",
       "      <td>sunny</td>\n",
       "      <td>warm</td>\n",
       "      <td>normal</td>\n",
       "      <td>strong</td>\n",
       "      <td>warm</td>\n",
       "      <td>same</td>\n",
       "      <td>yes</td>\n",
       "    </tr>\n",
       "    <tr>\n",
       "      <th>1</th>\n",
       "      <td>sunny</td>\n",
       "      <td>warm</td>\n",
       "      <td>high</td>\n",
       "      <td>strong</td>\n",
       "      <td>warm</td>\n",
       "      <td>same</td>\n",
       "      <td>yes</td>\n",
       "    </tr>\n",
       "    <tr>\n",
       "      <th>2</th>\n",
       "      <td>rainy</td>\n",
       "      <td>cold</td>\n",
       "      <td>high</td>\n",
       "      <td>strong</td>\n",
       "      <td>warm</td>\n",
       "      <td>change</td>\n",
       "      <td>no</td>\n",
       "    </tr>\n",
       "    <tr>\n",
       "      <th>3</th>\n",
       "      <td>sunny</td>\n",
       "      <td>warm</td>\n",
       "      <td>high</td>\n",
       "      <td>strong</td>\n",
       "      <td>cool</td>\n",
       "      <td>change</td>\n",
       "      <td>yes</td>\n",
       "    </tr>\n",
       "  </tbody>\n",
       "</table>\n",
       "</div>"
      ],
      "text/plain": [
       "     sky airTemp humidity    wind water forecast enjoySport\n",
       "0  sunny    warm   normal  strong  warm     same        yes\n",
       "1  sunny    warm     high  strong  warm     same        yes\n",
       "2  rainy    cold     high  strong  warm   change         no\n",
       "3  sunny    warm     high  strong  cool   change        yes"
      ]
     },
     "execution_count": 2,
     "metadata": {},
     "output_type": "execute_result"
    }
   ],
   "source": [
    "import pandas as pd\n",
    "df = pd.read_csv('Datasets/EnjoySport.csv')\n",
    "concepts = df.values [:,:-1]\n",
    "target = df.values [:,-1]\n",
    "column_length = df.shape[1]\n",
    "df.head()"
   ]
  },
  {
   "cell_type": "code",
   "execution_count": 11,
   "id": "835b9d78",
   "metadata": {},
   "outputs": [],
   "source": [
    "h = ['0'] * (column_length - 1)\n",
    "hp = []\n",
    "hn = []\n"
   ]
  },
  {
   "cell_type": "code",
   "execution_count": 12,
   "id": "4581a362",
   "metadata": {},
   "outputs": [],
   "source": [
    "for training_example in df.values:\n",
    "    if training_example[-1] != 'no':\n",
    "        hp.append(list(training_example))\n",
    "    else:\n",
    "        hn.append(list(training_example))\n",
    "        "
   ]
  },
  {
   "cell_type": "code",
   "execution_count": 13,
   "id": "5f97ebf7",
   "metadata": {},
   "outputs": [],
   "source": [
    "for i in range(len(hp)):\n",
    "    for j in range(column_length - 1):\n",
    "        if (h[j] == '0'):\n",
    "            h[j] = hp[i][j]\n",
    "        if (h[j] != hp[i][j]):\n",
    "            h[j] = '?'\n",
    "        else:\n",
    "            h[j] = hp[i][j]"
   ]
  },
  {
   "cell_type": "code",
   "execution_count": 14,
   "id": "43c043c7",
   "metadata": {},
   "outputs": [
    {
     "name": "stdout",
     "output_type": "stream",
     "text": [
      "Positive hypotheses:\n",
      "[['sunny', 'warm', 'normal', 'strong', 'warm', 'same', 'yes'], ['sunny', 'warm', 'high', 'strong', 'warm', 'same', 'yes'], ['sunny', 'warm', 'high', 'strong', 'cool', 'change', 'yes']]\n",
      "Negative hypotheses:\n",
      "[['rainy', 'cold', 'high', 'strong', 'warm', 'change', 'no']]\n",
      "Maximally specific hypotheses:\n",
      "['sunny', 'warm', '?', 'strong', '?', '?']\n"
     ]
    }
   ],
   "source": [
    "print(f'Positive hypotheses:\\n{hp}')\n",
    "print(f'Negative hypotheses:\\n{hn}')\n",
    "print(f'Maximally specific hypotheses:\\n{h}')\n"
   ]
  },
  {
   "cell_type": "code",
   "execution_count": null,
   "id": "6d3676b7",
   "metadata": {},
   "outputs": [],
   "source": []
  },
  {
   "cell_type": "code",
   "execution_count": null,
   "id": "8f4d71f0",
   "metadata": {},
   "outputs": [],
   "source": []
  }
 ],
 "metadata": {
  "kernelspec": {
   "display_name": "Python 3",
   "language": "python",
   "name": "python3"
  },
  "language_info": {
   "codemirror_mode": {
    "name": "ipython",
    "version": 3
   },
   "file_extension": ".py",
   "mimetype": "text/x-python",
   "name": "python",
   "nbconvert_exporter": "python",
   "pygments_lexer": "ipython3",
   "version": "3.8.8"
  }
 },
 "nbformat": 4,
 "nbformat_minor": 5
}
