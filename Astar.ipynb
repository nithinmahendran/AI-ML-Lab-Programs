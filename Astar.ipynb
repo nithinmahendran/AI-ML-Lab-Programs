{
 "cells": [
  {
   "cell_type": "code",
   "execution_count": 1,
   "id": "1a1bacdf",
   "metadata": {},
   "outputs": [
    {
     "name": "stdout",
     "output_type": "stream",
     "text": [
      "path:['A', 'F', 'G', 'I', 'J']\n"
     ]
    },
    {
     "data": {
      "text/plain": [
       "['A', 'F', 'G', 'I', 'J']"
      ]
     },
     "execution_count": 1,
     "metadata": {},
     "output_type": "execute_result"
    }
   ],
   "source": [
    "Graph={\n",
    "       'A':[('B',6),('F',3)],\n",
    "       'B':[('C',3),('D',2)],\n",
    "       'C':[('D',1),('E',5)],\n",
    "       'D':[('C',1),('E',8)],\n",
    "       'E':[('I',5),('J',5)],\n",
    "       'F':[('G',1),('H',7)],\n",
    "       'G':[('I',3)],\n",
    "       'H':[('I',2)],\n",
    "       'I':[('E',5),('J',3)],\n",
    "}\n",
    "def astars(start,stop):\n",
    "    open_set= set(start)\n",
    "    closed_set=set()\n",
    "    g={}\n",
    "    parents={}\n",
    "    g[start]=0\n",
    "    parents[start]=start\n",
    "    while len(open_set)>0:\n",
    "        n=None\n",
    "        for v in open_set:\n",
    "            if n== None or g[v]+heuristic(v)<g[n]+heuristic(n):\n",
    "                n=v\n",
    "        if n==stop or Graph[n]==None:\n",
    "            pass\n",
    "        else:\n",
    "            for (m,weight) in get_neighbors(n):\n",
    "                if m not in open_set and m not in closed_set:\n",
    "                    open_set.add(m)\n",
    "                    parents[m]=n\n",
    "                    g[m]=g[n]+weight\n",
    "                else:\n",
    "                    if g[m]>g[n]+weight:\n",
    "                        g[m]=g[n]+weight\n",
    "                        parents[m]=n\n",
    "                        if m in closed_set:\n",
    "                            closed_set.remove(m)\n",
    "                            open_set.add(m)\n",
    "        if n==None:\n",
    "            print(\"No path\")\n",
    "            return None\n",
    "        if n==stop:\n",
    "            path=[]\n",
    "            while parents[n]!=n:\n",
    "                path.append(n)\n",
    "                n=parents[n]\n",
    "            path.append(start)\n",
    "            path.reverse()\n",
    "            print(\"path:{}\".format(path))\n",
    "            return path\n",
    "        open_set.remove(n)\n",
    "        closed_set.add(n)\n",
    "    print('No path')\n",
    "    return None\n",
    "\n",
    "def  get_neighbors(v):\n",
    "        if v in Graph:\n",
    "            return Graph[v]\n",
    "        else:\n",
    "            return None\n",
    "\n",
    "\n",
    "def heuristic(n):\n",
    "    h_dist={'A':10,'B':8,'C':5,'D':7,'E':3,'F':6,'G':5,'H':3,'I':1,'J':0}\n",
    "    return h_dist[n]\n",
    "\n",
    "astars('A','J')\n"
   ]
  },
  {
   "cell_type": "code",
   "execution_count": null,
   "id": "6c3c6c14",
   "metadata": {},
   "outputs": [],
   "source": []
  }
 ],
 "metadata": {
  "kernelspec": {
   "display_name": "Python 3",
   "language": "python",
   "name": "python3"
  },
  "language_info": {
   "codemirror_mode": {
    "name": "ipython",
    "version": 3
   },
   "file_extension": ".py",
   "mimetype": "text/x-python",
   "name": "python",
   "nbconvert_exporter": "python",
   "pygments_lexer": "ipython3",
   "version": "3.8.8"
  }
 },
 "nbformat": 4,
 "nbformat_minor": 5
}
